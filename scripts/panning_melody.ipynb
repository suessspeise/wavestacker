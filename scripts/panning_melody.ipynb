{
 "cells": [
  {
   "cell_type": "markdown",
   "id": "10f26597-d1f6-4543-975e-1570618d3636",
   "metadata": {},
   "source": [
    "# Stereo panning random melody\n",
    "\n",
    "This example creates a repeating meldoy that oscillates between the left and right audio channel. We:\n",
    "\n",
    "- define a melody as a list of frequencies\n",
    "- generate equal length sine oscillations with those frequencies\n",
    "- use a cosine (and its inverted values) to weight the amplitude array on the left (and right) channel"
   ]
  },
  {
   "cell_type": "code",
   "execution_count": null,
   "id": "f8d4463f-c6bc-48be-935d-1f001a6018e1",
   "metadata": {},
   "outputs": [],
   "source": [
    "# this just adds the parent directory (where wavestacker is) to module search path\n",
    "import sys\n",
    "module_path = f'{sys.path[0]}/..'\n",
    "if not module_path in sys.path: sys.path.append(module_path)"
   ]
  },
  {
   "cell_type": "code",
   "execution_count": null,
   "id": "207a9e09-5eb6-44d5-922f-a3ab358bb4b3",
   "metadata": {},
   "outputs": [],
   "source": [
    "import wavestacker\n",
    "import numpy as np\n",
    "\n",
    "def generate_sine_wave(frequency, duration, sample_rate):\n",
    "    time_array = np.linspace(0, duration, int(sample_rate * duration))\n",
    "    sine_wave = np.sin(2 * np.pi * frequency * time_array)\n",
    "    return sine_wave\n",
    "\n",
    "sample_rate = 44100  # Sample rate in Hz\n",
    "buffer = wavestacker.StereoAudioBuffer(sample_rate=sample_rate)\n",
    "\n",
    "# Generate large arrays of sine waves with different frequencies\n",
    "frequencies = [440, 880, 220, 880, 440, 220, 1760, 110, 1760, 110] * 4 # repeat 4 times\n",
    "tone_length = 0.2  # seconds\n",
    "notes = [generate_sine_wave(freq, tone_length, sample_rate) for freq in frequencies] \n",
    "y = np.concatenate(notes)\n",
    "\n",
    "# Apply modulation \n",
    "time_array = np.linspace(0, tone_length*len(frequencies), int(sample_rate * tone_length * len(frequencies)))\n",
    "channel0 = y * (( np.cos(2 * np.pi * 2 * time_array) / 2) + .5)\n",
    "channel1 = y * ((-np.cos(2 * np.pi * 2 * time_array) / 2) + .5)\n",
    "\n",
    "buffer.add_audio_data(channel0, channel1)\n",
    "fig, axs = buffer.plot()\n",
    "buffer.play()"
   ]
  }
 ],
 "metadata": {
  "language_info": {
   "name": "python"
  }
 },
 "nbformat": 4,
 "nbformat_minor": 5
}
